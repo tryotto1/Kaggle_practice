{
  "nbformat": 4,
  "nbformat_minor": 0,
  "metadata": {
    "colab": {
      "name": "lab_image_practice1.ipynb",
      "provenance": [],
      "collapsed_sections": []
    },
    "kernelspec": {
      "name": "python3",
      "display_name": "Python 3"
    }
  },
  "cells": [
    {
      "cell_type": "code",
      "metadata": {
        "id": "TFUNUUkG_pq9",
        "colab_type": "code",
        "colab": {}
      },
      "source": [
        "# This Python 3 environment comes with many helpful analytics libraries installed\n",
        "# It is defined by the kaggle/python Docker image: https://github.com/kaggle/docker-python\n",
        "# For example, here's several helpful packages to load\n",
        "\n",
        "import numpy as np # linear algebra\n",
        "import pandas as pd # data processing, CSV file I/O (e.g. pd.read_csv)\n",
        "\n",
        "# Input data files are available in the read-only \"../input/\" directory\n",
        "# For example, running this (by clicking run or pressing Shift+Enter) will list all files under the input directory\n",
        "\n",
        "import os\n",
        "for dirname, _, filenames in os.walk('/kaggle/input'):\n",
        "    for filename in filenames:\n",
        "        print(os.path.join(dirname, filename))\n",
        "\n",
        "# You can write up to 5GB to the current directory (/kaggle/working/) that gets preserved as output when you create a version using \"Save & Run All\" \n",
        "# You can also write temporary files to /kaggle/temp/, but they won't be saved outside of the current session"
      ],
      "execution_count": null,
      "outputs": []
    },
    {
      "cell_type": "code",
      "metadata": {
        "id": "YoGCfOtmAta-",
        "colab_type": "code",
        "colab": {}
      },
      "source": [
        "import gc\n",
        "import os\n",
        "import warnings\n",
        "import numpy as np \n",
        "import pandas as pd\n",
        "import seaborn as sns\n",
        "import matplotlib.pyplot as plt\n",
        "from tqdm import tqdm\n",
        "\n",
        "from keras import backend as K\n",
        "warnings.filterwarnings(action='ignore')\n",
        "\n",
        "K.image_data_format()"
      ],
      "execution_count": null,
      "outputs": []
    },
    {
      "cell_type": "code",
      "metadata": {
        "id": "S9b3PImpAub1",
        "colab_type": "code",
        "colab": {}
      },
      "source": [
        "DATA_PATH = '../input/kakr-3rd-copy/'\n",
        "os.listdir(DATA_PATH)"
      ],
      "execution_count": null,
      "outputs": []
    },
    {
      "cell_type": "code",
      "metadata": {
        "id": "Ypv45nnPAvfL",
        "colab_type": "code",
        "colab": {}
      },
      "source": [
        "# 이미지 폴더 경로\n",
        "TRAIN_IMG_PATH = os.path.join(DATA_PATH, 'train')\n",
        "TEST_IMG_PATH = os.path.join(DATA_PATH, 'test')\n",
        "\n",
        "# CSV 파일 경로\n",
        "df_train = pd.read_csv(os.path.join(DATA_PATH, 'train.csv'))\n",
        "df_test = pd.read_csv(os.path.join(DATA_PATH, 'test.csv'))\n",
        "df_class = pd.read_csv(os.path.join(DATA_PATH, 'class.csv'))"
      ],
      "execution_count": null,
      "outputs": []
    },
    {
      "cell_type": "code",
      "metadata": {
        "id": "PyxMxYPMAwgX",
        "colab_type": "code",
        "colab": {}
      },
      "source": [
        "df_train.head()"
      ],
      "execution_count": null,
      "outputs": []
    },
    {
      "cell_type": "code",
      "metadata": {
        "id": "_sqGUZf4AxlE",
        "colab_type": "code",
        "colab": {}
      },
      "source": [
        "df_test.head()"
      ],
      "execution_count": null,
      "outputs": []
    },
    {
      "cell_type": "code",
      "metadata": {
        "id": "1-dTKJxrAyfA",
        "colab_type": "code",
        "colab": {}
      },
      "source": [
        "# Data 누락 체크\n",
        "if set(list(df_train.img_file)) == set(os.listdir(TRAIN_IMG_PATH)) :\n",
        "    print(\"Train file 누락 없음!\")\n",
        "else : \n",
        "    print(\"Train file 누락\")\n",
        "\n",
        "if set(list(df_test.img_file)) == set(os.listdir(TEST_IMG_PATH)) :\n",
        "    print(\"Test file 누락 없음!\")\n",
        "else : \n",
        "    print(\"Test file 누락\")"
      ],
      "execution_count": null,
      "outputs": []
    },
    {
      "cell_type": "code",
      "metadata": {
        "id": "yF1__IUIAzgO",
        "colab_type": "code",
        "colab": {}
      },
      "source": [
        "list(df_train.img_file)"
      ],
      "execution_count": null,
      "outputs": []
    },
    {
      "cell_type": "code",
      "metadata": {
        "id": "1kzyJDgvA0tF",
        "colab_type": "code",
        "colab": {}
      },
      "source": [
        "# Data 갯수\n",
        "print(\"Number of Train Data : {}\".format(df_train.shape[0]))\n",
        "print(\"Number of Test Data : {}\".format(df_test.shape[0]))"
      ],
      "execution_count": null,
      "outputs": []
    },
    {
      "cell_type": "code",
      "metadata": {
        "id": "ODaF_87gA1j6",
        "colab_type": "code",
        "colab": {}
      },
      "source": [
        "df_class.head()"
      ],
      "execution_count": null,
      "outputs": []
    },
    {
      "cell_type": "code",
      "metadata": {
        "id": "Y6ov7GnXA2hn",
        "colab_type": "code",
        "colab": {}
      },
      "source": [
        "print(\"타겟 클래스 총 갯수 : {}\".format(df_class.shape[0]))\n",
        "print(\"Train Data의 타겟 종류 갯수 : {}\".format(df_train['class'].nunique()))"
      ],
      "execution_count": null,
      "outputs": []
    },
    {
      "cell_type": "code",
      "metadata": {
        "id": "mz3rPYd6A3fa",
        "colab_type": "code",
        "colab": {}
      },
      "source": [
        "plt.figure(figsize=(12, 6))\n",
        "sns.countplot(df_train[\"class\"], order=df_train[\"class\"].value_counts(ascending=True).index)\n",
        "plt.title(\"Number of data per each class\")\n",
        "plt.show()"
      ],
      "execution_count": null,
      "outputs": []
    },
    {
      "cell_type": "code",
      "metadata": {
        "id": "rwI4dCMdA4Uv",
        "colab_type": "code",
        "colab": {}
      },
      "source": [
        "cntEachClass = df_train[\"class\"].value_counts(ascending=False)\n",
        "print(\"Class with most count  : {}\".format(cntEachClass.index[0]))\n",
        "print(\"Most Count : {}\".format(cntEachClass.max()))\n",
        "\n",
        "print(\"Class with fewest count  : {}\".format(cntEachClass.index[-1]))\n",
        "print(\"Fewest Count : {}\".format(cntEachClass.min()))\n",
        "\n",
        "print(\"Mean  : {}\".format(cntEachClass.mean()))"
      ],
      "execution_count": null,
      "outputs": []
    },
    {
      "cell_type": "code",
      "metadata": {
        "id": "_t3l5JTaA5Tm",
        "colab_type": "code",
        "colab": {}
      },
      "source": [
        "cntEachClass.describe()"
      ],
      "execution_count": null,
      "outputs": []
    },
    {
      "cell_type": "code",
      "metadata": {
        "id": "qr6qqNgPA6kq",
        "colab_type": "code",
        "colab": {}
      },
      "source": [
        "import PIL\n",
        "from PIL import ImageDraw\n",
        "\n",
        "tmp_imgs = df_train['img_file'][100:110]\n",
        "plt.figure(figsize=(12,20))\n",
        "\n",
        "for num, f_name in enumerate(tmp_imgs):\n",
        "    img = PIL.Image.open(os.path.join(TRAIN_IMG_PATH, f_name))\n",
        "    plt.subplot(5, 2, num + 1)\n",
        "    plt.title(f_name)\n",
        "    plt.imshow(img)\n",
        "    plt.axis('off')"
      ],
      "execution_count": null,
      "outputs": []
    },
    {
      "cell_type": "code",
      "metadata": {
        "id": "inRP98atA7b9",
        "colab_type": "code",
        "colab": {}
      },
      "source": [
        "def draw_rect(drawcontext, pos, outline=None, width=0):\n",
        "    (x1, y1) = (pos[0], pos[1])\n",
        "    (x2, y2) = (pos[2], pos[3])\n",
        "    points = (x1, y1), (x2, y1), (x2, y2), (x1, y2), (x1, y1)\n",
        "    drawcontext.line(points, fill=outline, width=width)\n",
        "\n",
        "def make_boxing_img(img_name) :\n",
        "    if img_name.split('_')[0] == \"train\" :\n",
        "        PATH = TRAIN_IMG_PATH\n",
        "        data = df_train\n",
        "    elif img_name.split('_')[0] == \"test\" :\n",
        "        PATH = TEST_IMG_PATH\n",
        "        data = df_test\n",
        "        \n",
        "    img = PIL.Image.open(os.path.join(PATH, img_name))\n",
        "    pos = data.loc[data[\"img_file\"] == img_name, \\\n",
        "                   ['bbox_x1','bbox_y1', 'bbox_x2', 'bbox_y2']].values.reshape(-1)\n",
        "    draw = ImageDraw.Draw(img)\n",
        "    draw_rect(draw, pos, outline='red', width=10)\n",
        "    \n",
        "    return img"
      ],
      "execution_count": null,
      "outputs": []
    },
    {
      "cell_type": "code",
      "metadata": {
        "id": "W6NOASyDA-P-",
        "colab_type": "code",
        "colab": {}
      },
      "source": [
        "f_name = \"train_00102.jpg\"\n",
        "\n",
        "plt.figure(figsize=(20,10))\n",
        "plt.subplot(1, 2, 1)\n",
        "# Original Image\n",
        "origin_img = PIL.Image.open(os.path.join(TRAIN_IMG_PATH, f_name))\n",
        "plt.title(\"Original Image - {}\".format(f_name))\n",
        "plt.imshow(origin_img)\n",
        "plt.axis('off')\n",
        "\n",
        "# Image included bounding box\n",
        "plt.subplot(1, 2, 2)\n",
        "boxing = make_boxing_img(f_name)\n",
        "plt.title(\"Boxing Image - {}\".format(f_name))\n",
        "plt.imshow(boxing)\n",
        "plt.axis('off')\n",
        "\n",
        "plt.show()"
      ],
      "execution_count": null,
      "outputs": []
    },
    {
      "cell_type": "code",
      "metadata": {
        "id": "SLmuknvaA_MH",
        "colab_type": "code",
        "colab": {}
      },
      "source": [
        "from sklearn.model_selection import train_test_split\n",
        "\n",
        "df_train[\"class\"] = df_train[\"class\"].astype('str')\n",
        "\n",
        "df_train = df_train[['img_file', 'class']]\n",
        "df_test = df_test[['img_file']]\n",
        "\n",
        "its = np.arange(df_train.shape[0])\n",
        "train_idx, val_idx = train_test_split(its, train_size = 0.8, random_state=42)\n",
        "\n",
        "X_train = df_train.iloc[train_idx, :]\n",
        "X_val = df_train.iloc[val_idx, :]\n",
        "\n",
        "print(X_train.shape)\n",
        "print(X_val.shape)\n",
        "print(df_test.shape)"
      ],
      "execution_count": null,
      "outputs": []
    },
    {
      "cell_type": "code",
      "metadata": {
        "id": "vJzVOrNbBAIz",
        "colab_type": "code",
        "colab": {}
      },
      "source": [
        "from keras.preprocessing.image import ImageDataGenerator\n",
        "from keras.applications.resnet50 import ResNet50, preprocess_input\n",
        "\n",
        "# Parameter\n",
        "img_size = (224, 224)\n",
        "nb_train_samples = len(X_train)\n",
        "nb_validation_samples = len(X_val)\n",
        "nb_test_samples = len(df_test)\n",
        "epochs = 20\n",
        "batch_size = 32\n",
        "\n",
        "# Define Generator config\n",
        "train_datagen = ImageDataGenerator(\n",
        "    horizontal_flip = True, \n",
        "    vertical_flip = False,\n",
        "    zoom_range=0.10,\n",
        "    preprocessing_function=preprocess_input)\n",
        "\n",
        "val_datagen = ImageDataGenerator(preprocessing_function=preprocess_input)\n",
        "test_datagen = ImageDataGenerator(preprocessing_function=preprocess_input)\n",
        "\n",
        "# Make Generator\n",
        "train_generator = train_datagen.flow_from_dataframe(\n",
        "    dataframe=X_train, \n",
        "    directory='../input/kakr-3rd-copy/train/',\n",
        "    x_col = 'img_file',\n",
        "    y_col = 'class',\n",
        "    target_size = img_size,\n",
        "    color_mode='rgb',\n",
        "    class_mode='categorical',\n",
        "    batch_size=batch_size,\n",
        "    seed=42\n",
        ")\n",
        "\n",
        "validation_generator = val_datagen.flow_from_dataframe(\n",
        "    dataframe=X_val, \n",
        "    directory='../input/kakr-3rd-copy/train',\n",
        "    x_col = 'img_file',\n",
        "    y_col = 'class',\n",
        "    target_size = img_size,\n",
        "    color_mode='rgb',\n",
        "    class_mode='categorical',\n",
        "    batch_size=batch_size,\n",
        "    shuffle=False\n",
        ")\n",
        "\n",
        "\n",
        "test_generator = test_datagen.flow_from_dataframe(\n",
        "    dataframe=df_test,\n",
        "    directory='../input/kakr-3rd-copy/test',\n",
        "    x_col='img_file',\n",
        "    y_col=None,\n",
        "    target_size= img_size,\n",
        "    color_mode='rgb',\n",
        "    class_mode=None,\n",
        "    batch_size=batch_size,\n",
        "    shuffle=False\n",
        ")"
      ],
      "execution_count": null,
      "outputs": []
    },
    {
      "cell_type": "code",
      "metadata": {
        "id": "LCvHaQrVBA9Y",
        "colab_type": "code",
        "colab": {}
      },
      "source": [
        "resNet_model = ResNet50(include_top=False, input_shape = (224,224,3))"
      ],
      "execution_count": null,
      "outputs": []
    },
    {
      "cell_type": "code",
      "metadata": {
        "id": "_wPzgsK_BCCf",
        "colab_type": "code",
        "colab": {}
      },
      "source": [
        "from keras.models import Sequential, Model\n",
        "from keras.layers import Dense, Dropout, Flatten, Activation, Conv2D, GlobalAveragePooling2D\n",
        "\n",
        "# for layer in resNet_model.layers:\n",
        "#     layer.trainable = False\n",
        "#     print(layer,layer.trainable)\n",
        "\n",
        "model = Sequential()\n",
        "model.add(resNet_model)\n",
        "model.add(GlobalAveragePooling2D())\n",
        "model.add(Dense(196, activation='softmax', kernel_initializer='he_normal'))\n",
        "model.summary()"
      ],
      "execution_count": null,
      "outputs": []
    },
    {
      "cell_type": "code",
      "metadata": {
        "id": "DT5RzXJRBC-B",
        "colab_type": "code",
        "colab": {}
      },
      "source": [
        "from sklearn.metrics import f1_score\n",
        "\n",
        "def micro_f1(y_true, y_pred):\n",
        "    return f1_score(y_true, y_pred, average='micro')\n",
        "\n",
        "model.compile(optimizer='adam', loss='categorical_crossentropy', metrics=['acc'])"
      ],
      "execution_count": null,
      "outputs": []
    },
    {
      "cell_type": "code",
      "metadata": {
        "id": "tmNugDzwBD1N",
        "colab_type": "code",
        "colab": {}
      },
      "source": [
        "def get_steps(num_samples, batch_size):\n",
        "    if (num_samples % batch_size) > 0 :\n",
        "        return (num_samples // batch_size) + 1\n",
        "    else :\n",
        "        return num_samples // batch_size"
      ],
      "execution_count": null,
      "outputs": []
    },
    {
      "cell_type": "code",
      "metadata": {
        "id": "q7ymmeM1BE05",
        "colab_type": "code",
        "colab": {}
      },
      "source": [
        "from keras.callbacks import ModelCheckpoint, EarlyStopping\n",
        "\n",
        "filepath = \"my_resnet_model_{val_acc:.2f}_{val_loss:.4f}.h5\"\n",
        "\n",
        "# ckpt = ModelCheckpoint(filepath, monitor='val_acc', verbose=1, save_best_only=True)\n",
        "es = EarlyStopping(monitor='val_acc', min_delta=0, patience=3, verbose=1, mode='auto')\n",
        "\n",
        "callbackList = [es]\n",
        "\n",
        "history = model.fit_generator(\n",
        "    train_generator,\n",
        "    steps_per_epoch = get_steps(nb_train_samples, batch_size),\n",
        "    epochs=epochs,\n",
        "    validation_data = validation_generator,\n",
        "    validation_steps = get_steps(nb_validation_samples, batch_size),\n",
        "    callbacks = callbackList\n",
        ")\n",
        "gc.collect()"
      ],
      "execution_count": null,
      "outputs": []
    },
    {
      "cell_type": "code",
      "metadata": {
        "id": "BscVACpUBFzz",
        "colab_type": "code",
        "colab": {}
      },
      "source": [
        ""
      ],
      "execution_count": null,
      "outputs": []
    }
  ]
}